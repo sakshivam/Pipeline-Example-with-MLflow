{
 "cells": [
  {
   "cell_type": "code",
   "execution_count": 34,
   "id": "939584b4",
   "metadata": {},
   "outputs": [],
   "source": [
    "import pandas as pd\n",
    "import os"
   ]
  },
  {
   "cell_type": "code",
   "execution_count": 35,
   "id": "60a569fc",
   "metadata": {},
   "outputs": [
    {
     "name": "stdout",
     "output_type": "stream",
     "text": [
      "C:\\Users\\saksh\\Documents\\20220502_Mlflow_Example notebooks\n"
     ]
    }
   ],
   "source": [
    "current_path = os.getcwd()\n",
    "dirname, filename = os.path.split(current_path)\n",
    "print(dirname, filename)"
   ]
  },
  {
   "cell_type": "code",
   "execution_count": 36,
   "id": "d54a7eb2",
   "metadata": {},
   "outputs": [
    {
     "name": "stdout",
     "output_type": "stream",
     "text": [
      "C:\\Users\\saksh\\Documents\\20220502_Mlflow_Example\\files\n"
     ]
    }
   ],
   "source": [
    "data_dir= os.path.join(dirname, 'files')\n",
    "print(data_dir)"
   ]
  },
  {
   "cell_type": "code",
   "execution_count": 37,
   "id": "57a6e8d9",
   "metadata": {},
   "outputs": [],
   "source": [
    "train_file_path = os.path.join(data_dir, \"step1\\\\train.parquet\")"
   ]
  },
  {
   "cell_type": "code",
   "execution_count": 38,
   "id": "60b681b1",
   "metadata": {},
   "outputs": [],
   "source": [
    "#traindf= pd.read_csv(train_file_path)\n",
    "traindf= pd.read_parquet(train_file_path)"
   ]
  },
  {
   "cell_type": "code",
   "execution_count": 39,
   "id": "96b36b99",
   "metadata": {},
   "outputs": [
    {
     "data": {
      "text/html": [
       "<div>\n",
       "<style scoped>\n",
       "    .dataframe tbody tr th:only-of-type {\n",
       "        vertical-align: middle;\n",
       "    }\n",
       "\n",
       "    .dataframe tbody tr th {\n",
       "        vertical-align: top;\n",
       "    }\n",
       "\n",
       "    .dataframe thead th {\n",
       "        text-align: right;\n",
       "    }\n",
       "</style>\n",
       "<table border=\"1\" class=\"dataframe\">\n",
       "  <thead>\n",
       "    <tr style=\"text-align: right;\">\n",
       "      <th></th>\n",
       "      <th>destination</th>\n",
       "      <th>passanger</th>\n",
       "      <th>weather</th>\n",
       "      <th>temperature</th>\n",
       "      <th>time</th>\n",
       "      <th>coupon</th>\n",
       "      <th>expiration</th>\n",
       "      <th>gender</th>\n",
       "      <th>age</th>\n",
       "      <th>maritalStatus</th>\n",
       "      <th>...</th>\n",
       "      <th>CoffeeHouse</th>\n",
       "      <th>CarryAway</th>\n",
       "      <th>RestaurantLessThan20</th>\n",
       "      <th>Restaurant20To50</th>\n",
       "      <th>toCoupon_GEQ5min</th>\n",
       "      <th>toCoupon_GEQ15min</th>\n",
       "      <th>toCoupon_GEQ25min</th>\n",
       "      <th>direction_same</th>\n",
       "      <th>direction_opp</th>\n",
       "      <th>Y</th>\n",
       "    </tr>\n",
       "  </thead>\n",
       "  <tbody>\n",
       "    <tr>\n",
       "      <th>0</th>\n",
       "      <td>No Urgent Place</td>\n",
       "      <td>Friend(s)</td>\n",
       "      <td>Sunny</td>\n",
       "      <td>80</td>\n",
       "      <td>2PM</td>\n",
       "      <td>Restaurant(20-50)</td>\n",
       "      <td>2h</td>\n",
       "      <td>Female</td>\n",
       "      <td>21</td>\n",
       "      <td>Unmarried partner</td>\n",
       "      <td>...</td>\n",
       "      <td>1~3</td>\n",
       "      <td>less1</td>\n",
       "      <td>1~3</td>\n",
       "      <td>never</td>\n",
       "      <td>1</td>\n",
       "      <td>1</td>\n",
       "      <td>0</td>\n",
       "      <td>0</td>\n",
       "      <td>1</td>\n",
       "      <td>0</td>\n",
       "    </tr>\n",
       "    <tr>\n",
       "      <th>1</th>\n",
       "      <td>No Urgent Place</td>\n",
       "      <td>Partner</td>\n",
       "      <td>Sunny</td>\n",
       "      <td>80</td>\n",
       "      <td>10AM</td>\n",
       "      <td>Restaurant(20-50)</td>\n",
       "      <td>1d</td>\n",
       "      <td>Male</td>\n",
       "      <td>41</td>\n",
       "      <td>Divorced</td>\n",
       "      <td>...</td>\n",
       "      <td>less1</td>\n",
       "      <td>1~3</td>\n",
       "      <td>1~3</td>\n",
       "      <td>1~3</td>\n",
       "      <td>1</td>\n",
       "      <td>0</td>\n",
       "      <td>0</td>\n",
       "      <td>0</td>\n",
       "      <td>1</td>\n",
       "      <td>1</td>\n",
       "    </tr>\n",
       "    <tr>\n",
       "      <th>2</th>\n",
       "      <td>Work</td>\n",
       "      <td>Alone</td>\n",
       "      <td>Snowy</td>\n",
       "      <td>30</td>\n",
       "      <td>7AM</td>\n",
       "      <td>Carry out &amp; Take away</td>\n",
       "      <td>1d</td>\n",
       "      <td>Female</td>\n",
       "      <td>50plus</td>\n",
       "      <td>Married partner</td>\n",
       "      <td>...</td>\n",
       "      <td>4~8</td>\n",
       "      <td>less1</td>\n",
       "      <td>1~3</td>\n",
       "      <td>less1</td>\n",
       "      <td>1</td>\n",
       "      <td>1</td>\n",
       "      <td>0</td>\n",
       "      <td>1</td>\n",
       "      <td>0</td>\n",
       "      <td>1</td>\n",
       "    </tr>\n",
       "    <tr>\n",
       "      <th>3</th>\n",
       "      <td>No Urgent Place</td>\n",
       "      <td>Friend(s)</td>\n",
       "      <td>Sunny</td>\n",
       "      <td>80</td>\n",
       "      <td>10AM</td>\n",
       "      <td>Carry out &amp; Take away</td>\n",
       "      <td>2h</td>\n",
       "      <td>Female</td>\n",
       "      <td>26</td>\n",
       "      <td>Single</td>\n",
       "      <td>...</td>\n",
       "      <td>1~3</td>\n",
       "      <td>gt8</td>\n",
       "      <td>gt8</td>\n",
       "      <td>gt8</td>\n",
       "      <td>1</td>\n",
       "      <td>1</td>\n",
       "      <td>0</td>\n",
       "      <td>0</td>\n",
       "      <td>1</td>\n",
       "      <td>1</td>\n",
       "    </tr>\n",
       "    <tr>\n",
       "      <th>4</th>\n",
       "      <td>Home</td>\n",
       "      <td>Alone</td>\n",
       "      <td>Sunny</td>\n",
       "      <td>80</td>\n",
       "      <td>6PM</td>\n",
       "      <td>Restaurant(&lt;20)</td>\n",
       "      <td>1d</td>\n",
       "      <td>Female</td>\n",
       "      <td>50plus</td>\n",
       "      <td>Married partner</td>\n",
       "      <td>...</td>\n",
       "      <td>4~8</td>\n",
       "      <td>less1</td>\n",
       "      <td>1~3</td>\n",
       "      <td>less1</td>\n",
       "      <td>1</td>\n",
       "      <td>0</td>\n",
       "      <td>0</td>\n",
       "      <td>1</td>\n",
       "      <td>0</td>\n",
       "      <td>1</td>\n",
       "    </tr>\n",
       "  </tbody>\n",
       "</table>\n",
       "<p>5 rows × 26 columns</p>\n",
       "</div>"
      ],
      "text/plain": [
       "       destination  passanger weather  temperature  time  \\\n",
       "0  No Urgent Place  Friend(s)   Sunny           80   2PM   \n",
       "1  No Urgent Place    Partner   Sunny           80  10AM   \n",
       "2             Work      Alone   Snowy           30   7AM   \n",
       "3  No Urgent Place  Friend(s)   Sunny           80  10AM   \n",
       "4             Home      Alone   Sunny           80   6PM   \n",
       "\n",
       "                  coupon expiration  gender     age      maritalStatus  ...  \\\n",
       "0      Restaurant(20-50)         2h  Female      21  Unmarried partner  ...   \n",
       "1      Restaurant(20-50)         1d    Male      41           Divorced  ...   \n",
       "2  Carry out & Take away         1d  Female  50plus    Married partner  ...   \n",
       "3  Carry out & Take away         2h  Female      26             Single  ...   \n",
       "4        Restaurant(<20)         1d  Female  50plus    Married partner  ...   \n",
       "\n",
       "   CoffeeHouse CarryAway RestaurantLessThan20 Restaurant20To50  \\\n",
       "0          1~3     less1                  1~3            never   \n",
       "1        less1       1~3                  1~3              1~3   \n",
       "2          4~8     less1                  1~3            less1   \n",
       "3          1~3       gt8                  gt8              gt8   \n",
       "4          4~8     less1                  1~3            less1   \n",
       "\n",
       "  toCoupon_GEQ5min toCoupon_GEQ15min toCoupon_GEQ25min direction_same  \\\n",
       "0                1                 1                 0              0   \n",
       "1                1                 0                 0              0   \n",
       "2                1                 1                 0              1   \n",
       "3                1                 1                 0              0   \n",
       "4                1                 0                 0              1   \n",
       "\n",
       "  direction_opp  Y  \n",
       "0             1  0  \n",
       "1             1  1  \n",
       "2             0  1  \n",
       "3             1  1  \n",
       "4             0  1  \n",
       "\n",
       "[5 rows x 26 columns]"
      ]
     },
     "execution_count": 39,
     "metadata": {},
     "output_type": "execute_result"
    }
   ],
   "source": [
    "traindf.head()"
   ]
  },
  {
   "cell_type": "markdown",
   "id": "1017aa62",
   "metadata": {},
   "source": [
    "## Analysis Functions"
   ]
  },
  {
   "cell_type": "code",
   "execution_count": 40,
   "id": "3bfc3f1a",
   "metadata": {},
   "outputs": [],
   "source": [
    "def Columns_to_drop(df):\n",
    "    #Find out which columns have null values and total number of Nan values in that column\n",
    "    # Determine percentage of missing data in a particular column for cleaning of the Data. \n",
    "    # Columns in data with more than 95% null should be dropped.\n",
    "    null_count = df.isna().sum()\n",
    "    percent_missing = df.isnull().sum() * 100 / len(df)\n",
    "    missing_val_columns =list(percent_missing[percent_missing > 95].index)\n",
    "    return missing_val_columns"
   ]
  },
  {
   "cell_type": "code",
   "execution_count": 41,
   "id": "96488b0d",
   "metadata": {},
   "outputs": [],
   "source": [
    "def Missing_Val_Columns_to_fill(df):\n",
    "    #Finding the value counts for columns with percent_missing between 0 and 95%\n",
    "    #Replacing Nan values in each of these columns with most frequent value in that column.\n",
    "    percent_missing = df.isnull().sum() * 100 / len(df)\n",
    "    missing_val_col_list_to_fill = list(percent_missing[(percent_missing > 0) & (percent_missing < 95)].index)\n",
    "    \n",
    "    return missing_val_col_list_to_fill"
   ]
  },
  {
   "cell_type": "markdown",
   "id": "a72da67f",
   "metadata": {},
   "source": [
    "## Action Functions"
   ]
  },
  {
   "cell_type": "code",
   "execution_count": 42,
   "id": "27c1b636",
   "metadata": {},
   "outputs": [],
   "source": [
    "def Drop_Missing_Val_Columns(df, col_list_to_drop):\n",
    "    df.drop(columns=col_list_to_drop, inplace=True)\n",
    "    return df"
   ]
  },
  {
   "cell_type": "code",
   "execution_count": 43,
   "id": "be0bb975",
   "metadata": {},
   "outputs": [],
   "source": [
    "def Fill_missing_Val_Columns(df, col_list_to_fill):\n",
    "    for i in col_list_to_fill:\n",
    "        df[i] = df[i].fillna(df[i].value_counts().index[0])\n",
    "            #print(df[i].isna().sum())\n",
    "    return df"
   ]
  },
  {
   "cell_type": "markdown",
   "id": "60895039",
   "metadata": {},
   "source": [
    "## Flow"
   ]
  },
  {
   "cell_type": "code",
   "execution_count": 44,
   "id": "65db806c",
   "metadata": {},
   "outputs": [
    {
     "name": "stdout",
     "output_type": "stream",
     "text": [
      "['car']\n"
     ]
    }
   ],
   "source": [
    "MISSING_VAL_COLUMNS = Columns_to_drop(traindf)\n",
    "print(MISSING_VAL_COLUMNS)"
   ]
  },
  {
   "cell_type": "code",
   "execution_count": 45,
   "id": "1f53bd32",
   "metadata": {},
   "outputs": [
    {
     "name": "stdout",
     "output_type": "stream",
     "text": [
      "['Bar', 'CoffeeHouse', 'CarryAway', 'RestaurantLessThan20', 'Restaurant20To50']\n"
     ]
    }
   ],
   "source": [
    "MISSING_VAL_COLUMNS_TO_FILL = Missing_Val_Columns_to_fill(traindf)\n",
    "print(MISSING_VAL_COLUMNS_TO_FILL)"
   ]
  },
  {
   "cell_type": "code",
   "execution_count": 46,
   "id": "8826720d",
   "metadata": {},
   "outputs": [],
   "source": [
    "traindf = Fill_missing_Val_Columns(traindf, MISSING_VAL_COLUMNS_TO_FILL)"
   ]
  },
  {
   "cell_type": "code",
   "execution_count": 47,
   "id": "bc952f39",
   "metadata": {},
   "outputs": [],
   "source": [
    "traindf = Drop_Missing_Val_Columns(traindf, MISSING_VAL_COLUMNS)"
   ]
  },
  {
   "cell_type": "code",
   "execution_count": 48,
   "id": "269fda48",
   "metadata": {},
   "outputs": [],
   "source": [
    "traindf_cleaned= traindf"
   ]
  },
  {
   "cell_type": "code",
   "execution_count": 49,
   "id": "08842d7a",
   "metadata": {},
   "outputs": [],
   "source": [
    "train_cleaned_file_path = os.path.join(data_dir, \"step2\\\\train_cleaned.parquet\")\n",
    "traindf_cleaned.to_parquet(train_cleaned_file_path, index=False)"
   ]
  },
  {
   "cell_type": "markdown",
   "id": "393cefab",
   "metadata": {},
   "source": [
    "## Remarks "
   ]
  },
  {
   "cell_type": "markdown",
   "id": "59ce1bd8",
   "metadata": {},
   "source": [
    "### CONFIG"
   ]
  },
  {
   "cell_type": "code",
   "execution_count": 50,
   "id": "a853f592",
   "metadata": {},
   "outputs": [],
   "source": [
    "#MISSING_VAL_COLUMNS = ['car']\n",
    "#MISSING_VAL_COLUMNS_TO_FILL = ['Bar', 'CoffeeHouse', 'CarryAway', 'RestaurantLessThan20', 'Restaurant20To50']"
   ]
  },
  {
   "cell_type": "code",
   "execution_count": null,
   "id": "af18bc65",
   "metadata": {},
   "outputs": [],
   "source": []
  }
 ],
 "metadata": {
  "kernelspec": {
   "display_name": "Python 3 (ipykernel)",
   "language": "python",
   "name": "python3"
  },
  "language_info": {
   "codemirror_mode": {
    "name": "ipython",
    "version": 3
   },
   "file_extension": ".py",
   "mimetype": "text/x-python",
   "name": "python",
   "nbconvert_exporter": "python",
   "pygments_lexer": "ipython3",
   "version": "3.9.7"
  }
 },
 "nbformat": 4,
 "nbformat_minor": 5
}
