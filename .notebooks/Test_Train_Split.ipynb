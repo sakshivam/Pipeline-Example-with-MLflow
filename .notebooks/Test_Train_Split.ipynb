{
 "cells": [
  {
   "cell_type": "markdown",
   "id": "b0e8c953",
   "metadata": {},
   "source": [
    "## Splitting dataset into train and test files"
   ]
  },
  {
   "cell_type": "code",
   "execution_count": 31,
   "id": "e5873246",
   "metadata": {},
   "outputs": [],
   "source": [
    "import pandas as pd\n",
    "import os"
   ]
  },
  {
   "cell_type": "code",
   "execution_count": 32,
   "id": "23e2f966",
   "metadata": {},
   "outputs": [
    {
     "name": "stdout",
     "output_type": "stream",
     "text": [
      "C:\\Users\\saksh\\Documents\\20220505_CouponAcceptance_with_MLFlow\\notebooks\n"
     ]
    }
   ],
   "source": [
    "current_path = os.getcwd()\n",
    "print(current_path)\n"
   ]
  },
  {
   "cell_type": "code",
   "execution_count": 33,
   "id": "aefbe074",
   "metadata": {},
   "outputs": [],
   "source": [
    "coupondf=pd.read_csv(\"C:\\\\Users\\\\saksh\\\\Documents\\\\20220505_CouponAcceptance_with_MLFlow\\\\in-vehicle-coupon-recommendation.csv\")\n",
    "fraction_train = 0.7"
   ]
  },
  {
   "cell_type": "code",
   "execution_count": 34,
   "id": "67084d57",
   "metadata": {},
   "outputs": [],
   "source": [
    "def test_train_split(df, frac_train):\n",
    "    frac= frac_train\n",
    "    train_df = df.sample(frac = 0.7)\n",
    "    test_df = df.drop(train_df.index)\n",
    "    return train_df, test_df "
   ]
  },
  {
   "cell_type": "code",
   "execution_count": 35,
   "id": "297b772f",
   "metadata": {},
   "outputs": [],
   "source": [
    "traindf, testdf = test_train_split(coupondf, fraction_train)"
   ]
  },
  {
   "cell_type": "code",
   "execution_count": 36,
   "id": "430bf963",
   "metadata": {},
   "outputs": [
    {
     "name": "stdout",
     "output_type": "stream",
     "text": [
      "C:\\Users\\saksh\\Documents\\20220505_CouponAcceptance_with_MLFlow notebooks\n"
     ]
    }
   ],
   "source": [
    "dirname, filename = os.path.split(current_path)\n",
    "print(dirname, filename)"
   ]
  },
  {
   "cell_type": "code",
   "execution_count": 37,
   "id": "9965cee0",
   "metadata": {},
   "outputs": [],
   "source": [
    "train_file_path = os.path.join(dirname, \"train.csv\")"
   ]
  },
  {
   "cell_type": "code",
   "execution_count": 38,
   "id": "4d16f6c7",
   "metadata": {},
   "outputs": [],
   "source": [
    "traindf.to_csv(train_file_path, index=False)"
   ]
  },
  {
   "cell_type": "code",
   "execution_count": 39,
   "id": "877f4704",
   "metadata": {},
   "outputs": [],
   "source": [
    "testdf.to_csv(train_file_path, index=False)"
   ]
  },
  {
   "cell_type": "code",
   "execution_count": null,
   "id": "b52d4a42",
   "metadata": {},
   "outputs": [],
   "source": []
  }
 ],
 "metadata": {
  "kernelspec": {
   "display_name": "Python 3 (ipykernel)",
   "language": "python",
   "name": "python3"
  },
  "language_info": {
   "codemirror_mode": {
    "name": "ipython",
    "version": 3
   },
   "file_extension": ".py",
   "mimetype": "text/x-python",
   "name": "python",
   "nbconvert_exporter": "python",
   "pygments_lexer": "ipython3",
   "version": "3.9.7"
  }
 },
 "nbformat": 4,
 "nbformat_minor": 5
}
