{
 "cells": [
  {
   "cell_type": "code",
   "execution_count": 15,
   "id": "c27f0de1",
   "metadata": {},
   "outputs": [],
   "source": [
    "import pandas as pd\n",
    "import os\n",
    "import numpy as np"
   ]
  },
  {
   "cell_type": "code",
   "execution_count": 9,
   "id": "8cf4e385",
   "metadata": {},
   "outputs": [
    {
     "name": "stdout",
     "output_type": "stream",
     "text": [
      "C:\\Users\\saksh\\Documents\\20220505_CouponAcceptance_with_MLFlow notebooks\n"
     ]
    }
   ],
   "source": [
    "current_path = os.getcwd()\n",
    "dirname, filename = os.path.split(current_path)\n",
    "print(dirname, filename)"
   ]
  },
  {
   "cell_type": "code",
   "execution_count": 60,
   "id": "c416fe9d",
   "metadata": {},
   "outputs": [],
   "source": [
    "train_cleaned_file_path = os.path.join(dirname, \"train_cleaned.csv\")\n",
    "traindf_cleaned= pd.read_csv(train_cleaned_file_path)"
   ]
  },
  {
   "cell_type": "code",
   "execution_count": 38,
   "id": "545f939d",
   "metadata": {},
   "outputs": [
    {
     "data": {
      "text/html": [
       "<div>\n",
       "<style scoped>\n",
       "    .dataframe tbody tr th:only-of-type {\n",
       "        vertical-align: middle;\n",
       "    }\n",
       "\n",
       "    .dataframe tbody tr th {\n",
       "        vertical-align: top;\n",
       "    }\n",
       "\n",
       "    .dataframe thead th {\n",
       "        text-align: right;\n",
       "    }\n",
       "</style>\n",
       "<table border=\"1\" class=\"dataframe\">\n",
       "  <thead>\n",
       "    <tr style=\"text-align: right;\">\n",
       "      <th></th>\n",
       "      <th>destination</th>\n",
       "      <th>passanger</th>\n",
       "      <th>weather</th>\n",
       "      <th>temperature</th>\n",
       "      <th>time</th>\n",
       "      <th>coupon</th>\n",
       "      <th>expiration</th>\n",
       "      <th>gender</th>\n",
       "      <th>age</th>\n",
       "      <th>maritalStatus</th>\n",
       "      <th>...</th>\n",
       "      <th>CoffeeHouse</th>\n",
       "      <th>CarryAway</th>\n",
       "      <th>RestaurantLessThan20</th>\n",
       "      <th>Restaurant20To50</th>\n",
       "      <th>toCoupon_GEQ5min</th>\n",
       "      <th>toCoupon_GEQ15min</th>\n",
       "      <th>toCoupon_GEQ25min</th>\n",
       "      <th>direction_same</th>\n",
       "      <th>direction_opp</th>\n",
       "      <th>Y</th>\n",
       "    </tr>\n",
       "  </thead>\n",
       "  <tbody>\n",
       "    <tr>\n",
       "      <th>0</th>\n",
       "      <td>No Urgent Place</td>\n",
       "      <td>Alone</td>\n",
       "      <td>Sunny</td>\n",
       "      <td>55</td>\n",
       "      <td>2PM</td>\n",
       "      <td>Restaurant(&lt;20)</td>\n",
       "      <td>1d</td>\n",
       "      <td>Female</td>\n",
       "      <td>21</td>\n",
       "      <td>Unmarried partner</td>\n",
       "      <td>...</td>\n",
       "      <td>never</td>\n",
       "      <td>1~3</td>\n",
       "      <td>4~8</td>\n",
       "      <td>1~3</td>\n",
       "      <td>1</td>\n",
       "      <td>0</td>\n",
       "      <td>0</td>\n",
       "      <td>0</td>\n",
       "      <td>1</td>\n",
       "      <td>1</td>\n",
       "    </tr>\n",
       "    <tr>\n",
       "      <th>1</th>\n",
       "      <td>No Urgent Place</td>\n",
       "      <td>Friend(s)</td>\n",
       "      <td>Sunny</td>\n",
       "      <td>80</td>\n",
       "      <td>10AM</td>\n",
       "      <td>Carry out &amp; Take away</td>\n",
       "      <td>2h</td>\n",
       "      <td>Female</td>\n",
       "      <td>21</td>\n",
       "      <td>Unmarried partner</td>\n",
       "      <td>...</td>\n",
       "      <td>never</td>\n",
       "      <td>1~3</td>\n",
       "      <td>4~8</td>\n",
       "      <td>1~3</td>\n",
       "      <td>1</td>\n",
       "      <td>1</td>\n",
       "      <td>0</td>\n",
       "      <td>0</td>\n",
       "      <td>1</td>\n",
       "      <td>1</td>\n",
       "    </tr>\n",
       "    <tr>\n",
       "      <th>2</th>\n",
       "      <td>No Urgent Place</td>\n",
       "      <td>Kid(s)</td>\n",
       "      <td>Sunny</td>\n",
       "      <td>55</td>\n",
       "      <td>2PM</td>\n",
       "      <td>Restaurant(&lt;20)</td>\n",
       "      <td>1d</td>\n",
       "      <td>Female</td>\n",
       "      <td>21</td>\n",
       "      <td>Unmarried partner</td>\n",
       "      <td>...</td>\n",
       "      <td>never</td>\n",
       "      <td>1~3</td>\n",
       "      <td>4~8</td>\n",
       "      <td>1~3</td>\n",
       "      <td>1</td>\n",
       "      <td>1</td>\n",
       "      <td>0</td>\n",
       "      <td>0</td>\n",
       "      <td>1</td>\n",
       "      <td>1</td>\n",
       "    </tr>\n",
       "    <tr>\n",
       "      <th>3</th>\n",
       "      <td>Home</td>\n",
       "      <td>Alone</td>\n",
       "      <td>Sunny</td>\n",
       "      <td>55</td>\n",
       "      <td>6PM</td>\n",
       "      <td>Bar</td>\n",
       "      <td>1d</td>\n",
       "      <td>Female</td>\n",
       "      <td>21</td>\n",
       "      <td>Unmarried partner</td>\n",
       "      <td>...</td>\n",
       "      <td>never</td>\n",
       "      <td>1~3</td>\n",
       "      <td>4~8</td>\n",
       "      <td>1~3</td>\n",
       "      <td>1</td>\n",
       "      <td>0</td>\n",
       "      <td>0</td>\n",
       "      <td>1</td>\n",
       "      <td>0</td>\n",
       "      <td>1</td>\n",
       "    </tr>\n",
       "    <tr>\n",
       "      <th>4</th>\n",
       "      <td>Work</td>\n",
       "      <td>Alone</td>\n",
       "      <td>Sunny</td>\n",
       "      <td>55</td>\n",
       "      <td>7AM</td>\n",
       "      <td>Bar</td>\n",
       "      <td>1d</td>\n",
       "      <td>Female</td>\n",
       "      <td>21</td>\n",
       "      <td>Unmarried partner</td>\n",
       "      <td>...</td>\n",
       "      <td>never</td>\n",
       "      <td>1~3</td>\n",
       "      <td>4~8</td>\n",
       "      <td>1~3</td>\n",
       "      <td>1</td>\n",
       "      <td>1</td>\n",
       "      <td>1</td>\n",
       "      <td>0</td>\n",
       "      <td>1</td>\n",
       "      <td>0</td>\n",
       "    </tr>\n",
       "  </tbody>\n",
       "</table>\n",
       "<p>5 rows × 25 columns</p>\n",
       "</div>"
      ],
      "text/plain": [
       "       destination  passanger weather  temperature  time  \\\n",
       "0  No Urgent Place      Alone   Sunny           55   2PM   \n",
       "1  No Urgent Place  Friend(s)   Sunny           80  10AM   \n",
       "2  No Urgent Place     Kid(s)   Sunny           55   2PM   \n",
       "3             Home      Alone   Sunny           55   6PM   \n",
       "4             Work      Alone   Sunny           55   7AM   \n",
       "\n",
       "                  coupon expiration  gender age      maritalStatus  ...  \\\n",
       "0        Restaurant(<20)         1d  Female  21  Unmarried partner  ...   \n",
       "1  Carry out & Take away         2h  Female  21  Unmarried partner  ...   \n",
       "2        Restaurant(<20)         1d  Female  21  Unmarried partner  ...   \n",
       "3                    Bar         1d  Female  21  Unmarried partner  ...   \n",
       "4                    Bar         1d  Female  21  Unmarried partner  ...   \n",
       "\n",
       "   CoffeeHouse CarryAway RestaurantLessThan20 Restaurant20To50  \\\n",
       "0        never       1~3                  4~8              1~3   \n",
       "1        never       1~3                  4~8              1~3   \n",
       "2        never       1~3                  4~8              1~3   \n",
       "3        never       1~3                  4~8              1~3   \n",
       "4        never       1~3                  4~8              1~3   \n",
       "\n",
       "  toCoupon_GEQ5min toCoupon_GEQ15min toCoupon_GEQ25min direction_same  \\\n",
       "0                1                 0                 0              0   \n",
       "1                1                 1                 0              0   \n",
       "2                1                 1                 0              0   \n",
       "3                1                 0                 0              1   \n",
       "4                1                 1                 1              0   \n",
       "\n",
       "  direction_opp  Y  \n",
       "0             1  1  \n",
       "1             1  1  \n",
       "2             1  1  \n",
       "3             0  1  \n",
       "4             1  0  \n",
       "\n",
       "[5 rows x 25 columns]"
      ]
     },
     "execution_count": 38,
     "metadata": {},
     "output_type": "execute_result"
    }
   ],
   "source": [
    "traindf_cleaned.head()"
   ]
  },
  {
   "cell_type": "markdown",
   "id": "da3ee616",
   "metadata": {},
   "source": [
    "## Analysis Functions"
   ]
  },
  {
   "cell_type": "code",
   "execution_count": 12,
   "id": "dfbac34f",
   "metadata": {},
   "outputs": [],
   "source": [
    "def Categorical_Numerical_Features_split(df):\n",
    "    categorical_data = df.select_dtypes(exclude=[np.number])\n",
    "    cat_list = list(categorical_data.columns)\n",
    "    numeric_data = df.select_dtypes(include=[np.number])\n",
    "    num_list = list(numeric_data.columns)\n",
    "    return cat_list, num_list"
   ]
  },
  {
   "cell_type": "code",
   "execution_count": 13,
   "id": "f76274a8",
   "metadata": {},
   "outputs": [],
   "source": [
    "def plot_stackedgraph_categorical(df, cat_list):\n",
    "    for i in cat_list:\n",
    "        df.groupby([i])['Y'].apply(lambda x: x.value_counts() / len(x)).transpose().unstack().plot(kind='bar',stacked = True)"
   ]
  },
  {
   "cell_type": "code",
   "execution_count": 78,
   "id": "f10fb1d0",
   "metadata": {},
   "outputs": [],
   "source": [
    "def scatterplot_for_numerical_features(df, num_lst):\n",
    "    num_list_new = num_lst[0:7]\n",
    "    for i in num_list_new:\n",
    "        ax1 =df.plot.scatter(x=i, y='Y',c='DarkBlue')"
   ]
  },
  {
   "cell_type": "markdown",
   "id": "027df91d",
   "metadata": {},
   "source": [
    "## Action Functions"
   ]
  },
  {
   "cell_type": "code",
   "execution_count": 32,
   "id": "98dfbbe0",
   "metadata": {},
   "outputs": [],
   "source": [
    "def replace_values_using_dict(df, dict_to_replace_values):\n",
    "    df = df.replace(dict_to_replace_values)\n",
    "    return df"
   ]
  },
  {
   "cell_type": "code",
   "execution_count": null,
   "id": "2b245df6",
   "metadata": {},
   "outputs": [],
   "source": []
  },
  {
   "cell_type": "markdown",
   "id": "ac07da6d",
   "metadata": {},
   "source": [
    "## Flow"
   ]
  },
  {
   "cell_type": "code",
   "execution_count": 16,
   "id": "54f47e17",
   "metadata": {},
   "outputs": [
    {
     "name": "stdout",
     "output_type": "stream",
     "text": [
      "List of categorical Features:\n",
      " ['destination', 'passanger', 'weather', 'time', 'coupon', 'expiration', 'gender', 'age', 'maritalStatus', 'education', 'occupation', 'income', 'Bar', 'CoffeeHouse', 'CarryAway', 'RestaurantLessThan20', 'Restaurant20To50'] \n",
      "\n",
      "List of Numerical Features:\n",
      " ['temperature', 'has_children', 'toCoupon_GEQ5min', 'toCoupon_GEQ15min', 'toCoupon_GEQ25min', 'direction_same', 'direction_opp', 'Y']\n"
     ]
    }
   ],
   "source": [
    "categorical_list, numeric_list = Categorical_Numerical_Features_split(traindf_cleaned)\n",
    "print(\"List of categorical Features:\\n\", categorical_list, \"\\n\")\n",
    "print(\"List of Numerical Features:\\n\", numeric_list)"
   ]
  },
  {
   "cell_type": "code",
   "execution_count": 77,
   "id": "1fc6f2d5",
   "metadata": {},
   "outputs": [],
   "source": [
    "#plot_stackedgraph_categorical(traindf_cleaned, categorical_list)"
   ]
  },
  {
   "cell_type": "code",
   "execution_count": 61,
   "id": "7af384c4",
   "metadata": {},
   "outputs": [],
   "source": [
    "dict_for_clubbing = {\"RestaurantLessThan20\": {'1~3':'1~8' , '4~8': '1~8' },\n",
    "                     \"CarryAway\": {'1~3':'1~8ngt8','4~8': '1~8ngt8', 'gt8':'1~8ngt8', \n",
    "                                   'less1': 'less1_never','never': 'less1_never'},\n",
    "                     \"CoffeeHouse\": {'1~3': '1~8ngt8','4~8': '1~8ngt8', 'gt8': '1~8ngt8'},\n",
    "                     \"Bar\": {'1~3':'1~8','4~8':'1~8'},\n",
    "                     \"income\": {'$12500 - $24999': '$12500-$62499','$25000 - $37499': '$12500-$62499',\n",
    "                                '$37500 - $49999': '$12500-$62499','$50000 - $62499': '$12500-$62499',\n",
    "                                '$75000 - $87499':'$62499-$99999','$87500 - $99999':'$62499-$99999',\n",
    "                                '$62500 - $74999':'$62499-$99999'},\n",
    "                     \"occupation\": {'Architecture & Engineering': 'Arch_cons_Health_Food_Farm', \n",
    "                                   'Construction & Extraction': 'Arch_cons_Health_Food_Farm',\n",
    "                                   'Healthcare Support': 'Arch_cons_Health_Food_Farm',\n",
    "                                   'Food Preparation & Serving Related': 'Arch_cons_Health_Food_Farm',\n",
    "                                   'Healthcare Practitioners & Technical':'Arch_cons_Health_Food_Farm', \n",
    "                                   'Farming Fishing & Forestry': 'Arch_cons_Health_Food_Farm', \n",
    "                                    'Business & Financial':'Arts_Comm_Building_Buss_Edu_Retired', \n",
    "                                    'Education&Training&Library':'Arts_Comm_Building_Buss_Edu_Retired', \n",
    "                                    'Retired':'Arts_Comm_Building_Buss_Edu_Retired', \n",
    "                                    'Arts Design Entertainment Sports & Media':'Arts_Comm_Building_Buss_Edu_Retired',\n",
    "                                    'Community & Social Services':'Arts_Comm_Building_Buss_Edu_Retired', \n",
    "                                    'Building & Grounds Cleaning & Maintenance':'Arts_Comm_Building_Buss_Edu_Retired',\n",
    "                                   'Computer & Mathematical':'comp_Inst_Pers_Sales_Unemployed', \n",
    "                                    'Installation Maintenance & Repair':'comp_Inst_Pers_Sales_Unemployed', \n",
    "                                    'Personal Care & Service':'comp_Inst_Pers_Sales_Unemployed', \n",
    "                                    'Sales & Related':'comp_Inst_Pers_Sales_Unemployed', \n",
    "                                    'Unemployed':'comp_Inst_Pers_Sales_Unemployed',\n",
    "                                   'Student':'Stud_manage_off_Trans_Protect_Life_Prod',\n",
    "                                    'Management':'Stud_manage_off_Trans_Protect_Life_Prod',\n",
    "                                    'Office & Administrative Support':'Stud_manage_off_Trans_Protect_Life_Prod',\n",
    "                                    'Transportation & Material Moving':'Stud_manage_off_Trans_Protect_Life_Prod',\n",
    "                                    'Protective Service':'Stud_manage_off_Trans_Protect_Life_Prod',\n",
    "                                    'Life Physical Social Science':'Stud_manage_off_Trans_Protect_Life_Prod',\n",
    "                                    'Production Occupations':'Stud_manage_off_Trans_Protect_Life_Prod'},\n",
    "                     \"education\": {'Bachelors degree':'Bach_Mast_Asso',\n",
    "                                   'Associates degree':'Bach_Mast_Asso', \n",
    "                                   'Graduate degree (Masters or Doctorate)':'Bach_Mast_Asso', \n",
    "                                   'Some college - no degree':'Nodeg_HSGrad',\n",
    "                                   'High School Graduate':'Nodeg_HSGrad'},\n",
    "                     \"maritalStatus\": {'Married partner':'Married_Divorced_Widowed',\n",
    "                                       'Divorced':'Married_Divorced_Widowed',\n",
    "                                       'Widowed':'Married_Divorced_Widowed', \n",
    "                                       'Single':'Single_Unmarriedpartner',\n",
    "                                       'Unmarried partner':'Single_Unmarriedpartner'},\n",
    "                     \"age\": {'26':'below26','21':'below26', 'below21':'below26',\n",
    "                             '31':'above26','50plus':'above26', '36':'above26','41':'above26', '46':'above26'},\n",
    "                     \"coupon\": {'Restaurant(20-50)':'Rest(20-50)_n_Bar', 'Bar':'Rest(20-50)_n_Bar',\n",
    "                                'Restaurant(<20)':'Rest(<20)_CH_CT',\n",
    "                                'Coffee House':'Rest(<20)_CH_CT',\n",
    "                                'Carry out & Take away':'Rest(<20)_CH_CT'},\n",
    "                     \"destination\": {'Home':'Home_n_Work','Work':'Home_n_Work'},\n",
    "                     \"passanger\": {'Alone':'Alone_n_Kids','Kid(s)':'Alone_n_Kids'},\n",
    "                    \"weather\": {'Snowy':'Snowy_n_Rainy','Rainy':'Snowy_n_Rainy'},\n",
    "                     \"time\": {'7AM':'7AM_n_10PM','10PM':'7AM_n_10PM', \n",
    "                              '6PM':'6PM_10AM_2PM','10AM':'6PM_10AM_2PM', '2PM':'6PM_10AM_2PM'},  \n",
    "                }"
   ]
  },
  {
   "cell_type": "code",
   "execution_count": 62,
   "id": "6388a390",
   "metadata": {},
   "outputs": [],
   "source": [
    "traindf_cleaned=replace_values_using_dict(traindf_cleaned,dict_for_clubbing )\n",
    "\n"
   ]
  },
  {
   "cell_type": "code",
   "execution_count": 73,
   "id": "4d000b64",
   "metadata": {},
   "outputs": [],
   "source": [
    "#traindf_cleaned['time'].value_counts()"
   ]
  },
  {
   "cell_type": "code",
   "execution_count": 74,
   "id": "8eab7a3f",
   "metadata": {},
   "outputs": [],
   "source": [
    "dict_to_get_ordinal_features = {\"destination\": {\"No Urgent Place\": 2,\"Home_n_Work\": 1 },\n",
    "                \"passanger\":   {\"Alone_n_Kids\": 3, \"Partner\": 2, \"Friend(s)\": 1},\n",
    "                \"weather\": {\"Sunny\": 2,\"Snowy_n_Rainy\": 1},\n",
    "                \"time\": {\"6PM_10AM_2PM\": 2,\"7AM_n_10PM\": 1},\n",
    "                \"coupon\": {\"Rest(<20)_CH_CT\": 2,\"Rest(20-50)_n_Bar\": 1},\n",
    "                \"expiration\": {\"1d\": 2,\"2h\": 1},\n",
    "                \"gender\": {\"Male\": 2,\"Female\": 1},\n",
    "                \"age\": {\"below26\": 2,\"above26\": 1},\n",
    "                \"maritalStatus\": {\"Single_Unmarriedpartner\": 2,\"Married_Divorced_Widowed\": 1},\n",
    "                \"education\": {\"Some High School\": 3,\"Nodeg_HSGrad\": 2, \"Bach_Mast_Asso\": 1 },\n",
    "                \"occupation\": {\"Arch_cons_Health_Food_Farm\": 5,\"Stud_manage_off_Trans_Protect_Life_Prod\": 4,\"comp_Inst_Pers_Sales_Unemployed\": 3, \"Arts_Comm_Building_Buss_Edu_Retired\": 2, \"Legal\": 1 },\n",
    "                \"income\": {\"Less than $12500\": 4,\"$12500-$62499\": 3,\"$100000 or More\": 2, \"$62499-$99999\": 1},\n",
    "                \"car\": {\"Car that is too old _n_Mazda5\": 4,\"Scooter and motorcycle\": 3, \"do not drive\": 2, \"crossover\": 1 },\n",
    "                \"Bar\": {\"1~8\": 4,\"less1\": 3, \"gt8\": 2, \"never\": 1 },\n",
    "                \"CoffeeHouse\": {\"1~8ngt8\": 3, \"less1\": 2, \"never\": 1 },\n",
    "                \"CarryAway\": {\"1~8ngt8\": 2, \"less1_never\": 1 },\n",
    "                \"RestaurantLessThan20\": {\"gt8\": 4,\"1~8\": 3, \"never\": 2, \"less1\": 1 },\n",
    "                \"Restaurant20To50\": {\"gt8\": 5, \"4~8\": 4,\"1~3\": 3, \"less1\": 2, \"never\": 1 }\n",
    "                }"
   ]
  },
  {
   "cell_type": "code",
   "execution_count": 75,
   "id": "9b8549d0",
   "metadata": {},
   "outputs": [],
   "source": [
    "traindf_cleaned=replace_values_using_dict(traindf_cleaned,dict_to_get_ordinal_features )"
   ]
  },
  {
   "cell_type": "code",
   "execution_count": 79,
   "id": "2c92bddb",
   "metadata": {},
   "outputs": [],
   "source": [
    "#scatterplot_for_numerical_features(traindf_cleaned, numeric_list)"
   ]
  },
  {
   "cell_type": "code",
   "execution_count": 80,
   "id": "7da58817",
   "metadata": {},
   "outputs": [],
   "source": [
    "traindf_with_feature_engg= traindf_cleaned\n"
   ]
  },
  {
   "cell_type": "code",
   "execution_count": 81,
   "id": "3903e938",
   "metadata": {},
   "outputs": [],
   "source": [
    "train_fengg_file_path = os.path.join(dirname, \"traindf_with_feature_engg.csv\")\n",
    "traindf_with_feature_engg.to_csv(train_fengg_file_path, index=False)"
   ]
  },
  {
   "cell_type": "markdown",
   "id": "e06ee5b0",
   "metadata": {},
   "source": [
    "## Remarks"
   ]
  },
  {
   "cell_type": "markdown",
   "id": "9ab0243b",
   "metadata": {},
   "source": [
    "### CONFIG"
   ]
  },
  {
   "cell_type": "code",
   "execution_count": 83,
   "id": "befbb92f",
   "metadata": {},
   "outputs": [],
   "source": [
    "# Categorical_Features = ['destination', 'passanger', 'weather', 'time', 'coupon', 'expiration', 'gender', 'age', 'maritalStatus',\n",
    "#                         'education', 'occupation', 'income', 'Bar', 'CoffeeHouse', 'CarryAway', 'RestaurantLessThan20',\n",
    "#                         'Restaurant20To50']\n",
    "# Numerical Features = ['temperature', 'has_children', 'toCoupon_GEQ5min', 'toCoupon_GEQ15min', 'toCoupon_GEQ25min',\n",
    "#                       'direction_same', 'direction_opp', 'Y']\n",
    "\n",
    "# dict_for_clubbing = {\"RestaurantLessThan20\": {'1~3':'1~8' , '4~8': '1~8' },\n",
    "#                      \"CarryAway\": {'1~3':'1~8ngt8','4~8': '1~8ngt8', 'gt8':'1~8ngt8', \n",
    "#                                    'less1': 'less1_never','never': 'less1_never'},\n",
    "#                      \"CoffeeHouse\": {'1~3': '1~8ngt8','4~8': '1~8ngt8', 'gt8': '1~8ngt8'},\n",
    "#                      \"Bar\": {'1~3':'1~8','4~8':'1~8'},\n",
    "#                      \"income\": {'$12500 - $24999': '$12500-$62499','$25000 - $37499': '$12500-$62499',\n",
    "#                                 '$37500 - $49999': '$12500-$62499','$50000 - $62499': '$12500-$62499',\n",
    "#                                 '$75000 - $87499':'$62499-$99999','$87500 - $99999':'$62499-$99999',\n",
    "#                                 '$62500 - $74999':'$62499-$99999'},\n",
    "#                      \"occupation\": {'Architecture & Engineering': 'Arch_cons_Health_Food_Farm', \n",
    "#                                    'Construction & Extraction': 'Arch_cons_Health_Food_Farm',\n",
    "#                                    'Healthcare Support': 'Arch_cons_Health_Food_Farm',\n",
    "#                                    'Food Preparation & Serving Related': 'Arch_cons_Health_Food_Farm',\n",
    "#                                    'Healthcare Practitioners & Technical':'Arch_cons_Health_Food_Farm', \n",
    "#                                    'Farming Fishing & Forestry': 'Arch_cons_Health_Food_Farm', \n",
    "#                                     'Business & Financial':'Arts_Comm_Building_Buss_Edu_Retired', \n",
    "#                                     'Education&Training&Library':'Arts_Comm_Building_Buss_Edu_Retired', \n",
    "#                                     'Retired':'Arts_Comm_Building_Buss_Edu_Retired', \n",
    "#                                     'Arts Design Entertainment Sports & Media':'Arts_Comm_Building_Buss_Edu_Retired',\n",
    "#                                     'Community & Social Services':'Arts_Comm_Building_Buss_Edu_Retired', \n",
    "#                                     'Building & Grounds Cleaning & Maintenance':'Arts_Comm_Building_Buss_Edu_Retired',\n",
    "#                                    'Computer & Mathematical':'comp_Inst_Pers_Sales_Unemployed', \n",
    "#                                     'Installation Maintenance & Repair':'comp_Inst_Pers_Sales_Unemployed', \n",
    "#                                     'Personal Care & Service':'comp_Inst_Pers_Sales_Unemployed', \n",
    "#                                     'Sales & Related':'comp_Inst_Pers_Sales_Unemployed', \n",
    "#                                     'Unemployed':'comp_Inst_Pers_Sales_Unemployed',\n",
    "#                                    'Student':'Stud_manage_off_Trans_Protect_Life_Prod',\n",
    "#                                     'Management':'Stud_manage_off_Trans_Protect_Life_Prod',\n",
    "#                                     'Office & Administrative Support':'Stud_manage_off_Trans_Protect_Life_Prod',\n",
    "#                                     'Transportation & Material Moving':'Stud_manage_off_Trans_Protect_Life_Prod',\n",
    "#                                     'Protective Service':'Stud_manage_off_Trans_Protect_Life_Prod',\n",
    "#                                     'Life Physical Social Science':'Stud_manage_off_Trans_Protect_Life_Prod',\n",
    "#                                     'Production Occupations':'Stud_manage_off_Trans_Protect_Life_Prod'},\n",
    "#                      \"education\": {'Bachelors degree':'Bach_Mast_Asso',\n",
    "#                                    'Associates degree':'Bach_Mast_Asso', \n",
    "#                                    'Graduate degree (Masters or Doctorate)':'Bach_Mast_Asso', \n",
    "#                                    'Some college - no degree':'Nodeg_HSGrad',\n",
    "#                                    'High School Graduate':'Nodeg_HSGrad'},\n",
    "#                      \"maritalStatus\": {'Married partner':'Married_Divorced_Widowed',\n",
    "#                                        'Divorced':'Married_Divorced_Widowed',\n",
    "#                                        'Widowed':'Married_Divorced_Widowed', \n",
    "#                                        'Single':'Single_Unmarriedpartner',\n",
    "#                                        'Unmarried partner':'Single_Unmarriedpartner'},\n",
    "#                      \"age\": {'26':'below26','21':'below26', 'below21':'below26',\n",
    "#                              '31':'above26','50plus':'above26', '36':'above26','41':'above26', '46':'above26'},\n",
    "#                      \"coupon\": {'Restaurant(20-50)':'Rest(20-50)_n_Bar', 'Bar':'Rest(20-50)_n_Bar',\n",
    "#                                 'Restaurant(<20)':'Rest(<20)_CH_CT',\n",
    "#                                 'Coffee House':'Rest(<20)_CH_CT',\n",
    "#                                 'Carry out & Take away':'Rest(<20)_CH_CT'},\n",
    "#                      \"destination\": {'Home':'Home_n_Work','Work':'Home_n_Work'},\n",
    "#                      \"passanger\": {'Alone':'Alone_n_Kids','Kid(s)':'Alone_n_Kids'},\n",
    "#                     \"weather\": {'Snowy':'Snowy_n_Rainy','Rainy':'Snowy_n_Rainy'},\n",
    "#                      \"time\": {'7AM':'7AM_n_10PM','10PM':'7AM_n_10PM', \n",
    "#                               '6PM':'6PM_10AM_2PM','10AM':'6PM_10AM_2PM', '2PM':'6PM_10AM_2PM'},  \n",
    "#                 }\n",
    "\n",
    "# dict_to_get_ordinal_features = {\"destination\": {\"No Urgent Place\": 2,\"Home_n_Work\": 1 },\n",
    "#                 \"passanger\":   {\"Alone_n_Kids\": 3, \"Partner\": 2, \"Friend(s)\": 1},\n",
    "#                 \"weather\": {\"Sunny\": 2,\"Snowy_n_Rainy\": 1},\n",
    "#                 \"time\": {\"6PM_10AM_2PM\": 2,\"7AM_n_10PM\": 1},\n",
    "#                 \"coupon\": {\"Rest(<20)_CH_CT\": 2,\"Rest(20-50)_n_Bar\": 1},\n",
    "#                 \"expiration\": {\"1d\": 2,\"2h\": 1},\n",
    "#                 \"gender\": {\"Male\": 2,\"Female\": 1},\n",
    "#                 \"age\": {\"below26\": 2,\"above26\": 1},\n",
    "#                 \"maritalStatus\": {\"Single_Unmarriedpartner\": 2,\"Married_Divorced_Widowed\": 1},\n",
    "#                 \"education\": {\"Some High School\": 3,\"Nodeg_HSGrad\": 2, \"Bach_Mast_Asso\": 1 },\n",
    "#                 \"occupation\": {\"Arch_cons_Health_Food_Farm\": 5,\"Stud_manage_off_Trans_Protect_Life_Prod\": 4,\"comp_Inst_Pers_Sales_Unemployed\": 3, \"Arts_Comm_Building_Buss_Edu_Retired\": 2, \"Legal\": 1 },\n",
    "#                 \"income\": {\"Less than $12500\": 4,\"$12500-$62499\": 3,\"$100000 or More\": 2, \"$62499-$99999\": 1},\n",
    "#                 \"car\": {\"Car that is too old _n_Mazda5\": 4,\"Scooter and motorcycle\": 3, \"do not drive\": 2, \"crossover\": 1 },\n",
    "#                 \"Bar\": {\"1~8\": 4,\"less1\": 3, \"gt8\": 2, \"never\": 1 },\n",
    "#                 \"CoffeeHouse\": {\"1~8ngt8\": 3, \"less1\": 2, \"never\": 1 },\n",
    "#                 \"CarryAway\": {\"1~8ngt8\": 2, \"less1_never\": 1 },\n",
    "#                 \"RestaurantLessThan20\": {\"gt8\": 4,\"1~8\": 3, \"never\": 2, \"less1\": 1 },\n",
    "#                 \"Restaurant20To50\": {\"gt8\": 5, \"4~8\": 4,\"1~3\": 3, \"less1\": 2, \"never\": 1 }\n",
    "#                 }\n"
   ]
  },
  {
   "cell_type": "code",
   "execution_count": null,
   "id": "bfbf4ef9",
   "metadata": {},
   "outputs": [],
   "source": []
  }
 ],
 "metadata": {
  "kernelspec": {
   "display_name": "Python 3 (ipykernel)",
   "language": "python",
   "name": "python3"
  },
  "language_info": {
   "codemirror_mode": {
    "name": "ipython",
    "version": 3
   },
   "file_extension": ".py",
   "mimetype": "text/x-python",
   "name": "python",
   "nbconvert_exporter": "python",
   "pygments_lexer": "ipython3",
   "version": "3.9.7"
  }
 },
 "nbformat": 4,
 "nbformat_minor": 5
}
